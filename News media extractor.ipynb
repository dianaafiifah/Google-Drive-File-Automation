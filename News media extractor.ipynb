{
 "cells": [
  {
   "cell_type": "markdown",
   "metadata": {
    "id": "6CmSJxUM8rU5"
   },
   "source": [
    "# Scrape News Website"
   ]
  },
  {
   "cell_type": "code",
   "execution_count": null,
   "metadata": {
    "colab": {
     "base_uri": "https://localhost:8080/"
    },
    "id": "r4LuBl58NGLv",
    "outputId": "932fcc5e-e8b5-471e-c5d6-0d03da2fd115"
   },
   "outputs": [
    {
     "name": "stdout",
     "output_type": "stream",
     "text": [
      "Looking in indexes: https://pypi.org/simple, https://us-python.pkg.dev/colab-wheels/public/simple/\n",
      "Requirement already satisfied: gspread in /usr/local/lib/python3.10/dist-packages (5.9.0)\n",
      "Requirement already satisfied: google-auth>=1.12.0 in /usr/local/lib/python3.10/dist-packages (from gspread) (2.17.3)\n",
      "Requirement already satisfied: google-auth-oauthlib>=0.4.1 in /usr/local/lib/python3.10/dist-packages (from gspread) (1.0.0)\n",
      "Requirement already satisfied: cachetools<6.0,>=2.0.0 in /usr/local/lib/python3.10/dist-packages (from google-auth>=1.12.0->gspread) (5.3.1)\n",
      "Requirement already satisfied: pyasn1-modules>=0.2.1 in /usr/local/lib/python3.10/dist-packages (from google-auth>=1.12.0->gspread) (0.3.0)\n",
      "Requirement already satisfied: six>=1.9.0 in /usr/local/lib/python3.10/dist-packages (from google-auth>=1.12.0->gspread) (1.16.0)\n",
      "Requirement already satisfied: rsa<5,>=3.1.4 in /usr/local/lib/python3.10/dist-packages (from google-auth>=1.12.0->gspread) (4.9)\n",
      "Requirement already satisfied: requests-oauthlib>=0.7.0 in /usr/local/lib/python3.10/dist-packages (from google-auth-oauthlib>=0.4.1->gspread) (1.3.1)\n",
      "Requirement already satisfied: pyasn1<0.6.0,>=0.4.6 in /usr/local/lib/python3.10/dist-packages (from pyasn1-modules>=0.2.1->google-auth>=1.12.0->gspread) (0.5.0)\n",
      "Requirement already satisfied: oauthlib>=3.0.0 in /usr/local/lib/python3.10/dist-packages (from requests-oauthlib>=0.7.0->google-auth-oauthlib>=0.4.1->gspread) (3.2.2)\n",
      "Requirement already satisfied: requests>=2.0.0 in /usr/local/lib/python3.10/dist-packages (from requests-oauthlib>=0.7.0->google-auth-oauthlib>=0.4.1->gspread) (2.27.1)\n",
      "Requirement already satisfied: urllib3<1.27,>=1.21.1 in /usr/local/lib/python3.10/dist-packages (from requests>=2.0.0->requests-oauthlib>=0.7.0->google-auth-oauthlib>=0.4.1->gspread) (1.26.16)\n",
      "Requirement already satisfied: certifi>=2017.4.17 in /usr/local/lib/python3.10/dist-packages (from requests>=2.0.0->requests-oauthlib>=0.7.0->google-auth-oauthlib>=0.4.1->gspread) (2023.5.7)\n",
      "Requirement already satisfied: charset-normalizer~=2.0.0 in /usr/local/lib/python3.10/dist-packages (from requests>=2.0.0->requests-oauthlib>=0.7.0->google-auth-oauthlib>=0.4.1->gspread) (2.0.12)\n",
      "Requirement already satisfied: idna<4,>=2.5 in /usr/local/lib/python3.10/dist-packages (from requests>=2.0.0->requests-oauthlib>=0.7.0->google-auth-oauthlib>=0.4.1->gspread) (3.4)\n",
      "Looking in indexes: https://pypi.org/simple, https://us-python.pkg.dev/colab-wheels/public/simple/\n",
      "Requirement already satisfied: tldextract in /usr/local/lib/python3.10/dist-packages (3.4.4)\n",
      "Requirement already satisfied: idna in /usr/local/lib/python3.10/dist-packages (from tldextract) (3.4)\n",
      "Requirement already satisfied: requests>=2.1.0 in /usr/local/lib/python3.10/dist-packages (from tldextract) (2.27.1)\n",
      "Requirement already satisfied: requests-file>=1.4 in /usr/local/lib/python3.10/dist-packages (from tldextract) (1.5.1)\n",
      "Requirement already satisfied: filelock>=3.0.8 in /usr/local/lib/python3.10/dist-packages (from tldextract) (3.12.2)\n",
      "Requirement already satisfied: urllib3<1.27,>=1.21.1 in /usr/local/lib/python3.10/dist-packages (from requests>=2.1.0->tldextract) (1.26.16)\n",
      "Requirement already satisfied: certifi>=2017.4.17 in /usr/local/lib/python3.10/dist-packages (from requests>=2.1.0->tldextract) (2023.5.7)\n",
      "Requirement already satisfied: charset-normalizer~=2.0.0 in /usr/local/lib/python3.10/dist-packages (from requests>=2.1.0->tldextract) (2.0.12)\n",
      "Requirement already satisfied: six in /usr/local/lib/python3.10/dist-packages (from requests-file>=1.4->tldextract) (1.16.0)\n"
     ]
    }
   ],
   "source": [
    "!pip install --upgrade gspread\n",
    "!pip install tldextract"
   ]
  },
  {
   "cell_type": "code",
   "execution_count": null,
   "metadata": {
    "id": "DXDP88rhRr_q"
   },
   "outputs": [],
   "source": [
    "from bs4 import BeautifulSoup\n",
    "import requests\n",
    "\n",
    "import pandas as pd\n",
    "\n",
    "from google.colab import auth\n",
    "auth.authenticate_user()\n",
    "\n",
    "from google.auth import default\n",
    "from oauth2client.service_account import ServiceAccountCredentials\n",
    "import gspread\n",
    "\n",
    "from urllib.parse import urlparse"
   ]
  },
  {
   "cell_type": "code",
   "execution_count": null,
   "metadata": {
    "id": "PlU9XVyKsAC9"
   },
   "outputs": [],
   "source": [
    "# Set up the Google Sheets API credentials\n",
    "creds, _ = default()\n",
    "client = gspread.authorize(creds)"
   ]
  },
  {
   "cell_type": "code",
   "execution_count": null,
   "metadata": {
    "id": "xF1SZuznr6p4"
   },
   "outputs": [],
   "source": [
    "# Get the tiers and keywords from the Google Sheet\n",
    "sheet_url = \"...\"\n",
    "sheet_name = \"...\"\n",
    "sheet = client.open_by_url(sheet_url).worksheet(sheet_name)\n",
    "\n",
    "keywords = sheet.col_values(1)[1:]  # Exclude the header\n",
    "tier1 = sheet.col_values(2)[1:]\n",
    "tier2 = sheet.col_values(3)[1:]\n",
    "tier3 = sheet.col_values(4)[1:]\n",
    "tier4 = sheet.col_values(5)[1:]"
   ]
  },
  {
   "cell_type": "code",
   "execution_count": null,
   "metadata": {
    "colab": {
     "base_uri": "https://localhost:8080/"
    },
    "id": "jRXDg66BsW5m",
    "outputId": "b24ba2ce-5ce2-4d1f-873c-a407d270adcb"
   },
   "outputs": [
    {
     "data": {
      "text/plain": [
       "['#TerusBelajar',\n",
       " 'Adelina Anggraini',\n",
       " 'Ayo Jadi Guru',\n",
       " 'Budi Setiawan',\n",
       " 'Budi Setiawan Muhammad',\n",
       " 'Bukik Setiawan',\n",
       " 'Cerita Guru Belajar',\n",
       " 'Elisabet Indah Susanti',\n",
       " 'Ilona Christina Kakerissa',\n",
       " 'Kampus Guru Cikal',\n",
       " 'Kampus Pemimpin Merdeka',\n",
       " 'Lingkar Daerah Belajar',\n",
       " 'Marsaria Primadonna',\n",
       " 'Merayakan Asesmen Merdeka Belajar',\n",
       " 'Nur Kholis Makki',\n",
       " 'Pendidikan Penggerak Merdeka Belajar',\n",
       " 'Rizqy Rahmat Hani',\n",
       " 'Rizqy Rahmat Hanni',\n",
       " 'Siap Kurikulum',\n",
       " 'Surat Kabar Guru Belajar',\n",
       " 'Surat Kabar Pemimpin Belajar',\n",
       " 'Temu Pendidik Nusantara',\n",
       " 'Temu Pendidik Nusantara 9',\n",
       " 'TerusBelajar',\n",
       " 'Wardah Inspiring Teacher',\n",
       " 'Yayasan Guru Belajar']"
      ]
     },
     "execution_count": 39,
     "metadata": {},
     "output_type": "execute_result"
    }
   ],
   "source": [
    "# Combine the keywords into a dictionary\n",
    "keywords"
   ]
  },
  {
   "cell_type": "code",
   "execution_count": null,
   "metadata": {
    "colab": {
     "base_uri": "https://localhost:8080/"
    },
    "id": "S3GQubHDsZWq",
    "outputId": "e312ac5c-629d-4a79-ecac-1ae8b53d533b"
   },
   "outputs": [
    {
     "data": {
      "text/plain": [
       "{'Tier 1': ['detik.com',\n",
       "  'Harian Haluan',\n",
       "  'Harian Silampari',\n",
       "  'igi.or.id',\n",
       "  'kompas.com',\n",
       "  'Koran Fajar',\n",
       "  'Koran Sindo',\n",
       "  'Koran Tribun Timur',\n",
       "  'kumparan.com',\n",
       "  'Linggau Pos',\n",
       "  'liputan6.com',\n",
       "  'Mantra Sukabumi - Pikiran Rakyat',\n",
       "  'merdeka.com',\n",
       "  'okezone.com',\n",
       "  'pergunu.or.id',\n",
       "  'pikiran-rakyat.com',\n",
       "  'sindonews.com',\n",
       "  'suaramerdeka.com',\n",
       "  'tempo.co',\n",
       "  'Tribun Muba',\n",
       "  'tribunnews.com',\n",
       "  'Website Resmi Disdik',\n",
       "  'Website Resmi Pemerintah',\n",
       "  'Website Resmi Sekolah'],\n",
       " 'Tier 2': ['antaranews.com',\n",
       "  'inews.id',\n",
       "  'jawapos.com',\n",
       "  'medcom.id',\n",
       "  'mediaindonesia.com',\n",
       "  'naikpangkat.com',\n",
       "  'sonora.id',\n",
       "  'wartaekonomi.co.id'],\n",
       " 'Tier 3': ['alinea.id',\n",
       "  'alonesia.com',\n",
       "  'analisadaily.com',\n",
       "  'batarapos.com',\n",
       "  'beritabersatu.com',\n",
       "  'beritajatim.com',\n",
       "  'beritaminang.com',\n",
       "  'beritanasional.id',\n",
       "  'beritasulsel.com',\n",
       "  'bidiknasional.id',\n",
       "  'bloktuban.com',\n",
       "  'bonepos.com',\n",
       "  'chanelmuslim.com',\n",
       "  'duniapendidikan.id',\n",
       "  'elshinta.com',\n",
       "  'fajar.co.id',\n",
       "  'fajarpendidikan.co.id',\n",
       "  'harianbhirawa.co.id',\n",
       "  'harianhaluan.com',\n",
       "  'harianhaluan.id',\n",
       "  'harianhaluan.id',\n",
       "  'infopublik.id',\n",
       "  'jabaronline.com',\n",
       "  'joglojateng.com',\n",
       "  'kabarmakassar.com',\n",
       "  'kalderanews.com',\n",
       "  'kedannews.com',\n",
       "  'kilasberita.id',\n",
       "  'kilassulawesi.com',\n",
       "  'kompas.com',\n",
       "  'koranpelita.com',\n",
       "  'mediasulsel.com',\n",
       "  'merahputih.com',\n",
       "  'metro-online.co',\n",
       "  'mimbarnegeri.com',\n",
       "  'mitrapost.com',\n",
       "  'mudanews.com',\n",
       "  'neraca.co.id',\n",
       "  'newsurban.id',\n",
       "  'ngopibareng.id',\n",
       "  'nusantarachannel.co',\n",
       "  'okemedan.com',\n",
       "  'prabumulih.sumeks.co',\n",
       "  'publikasionline.id',\n",
       "  'radarbandung.id',\n",
       "  'radardepok.com',\n",
       "  'radarjatim.id',\n",
       "  'radarpekalongan.co.id',\n",
       "  'radartulungagung.co.id',\n",
       "  'rakyatku.com',\n",
       "  'sinarharapan.net',\n",
       "  'suarabaru.id',\n",
       "  'suarapemredkalbar.com',\n",
       "  'sultengraya.com',\n",
       "  'tangerangonline.id',\n",
       "  'terkini.id',\n",
       "  'Times Indonesia',\n",
       "  'tugumalang.id',\n",
       "  'ujungjari.com',\n",
       "  'waspada.id'],\n",
       " 'Tier 4': ['b-news.id',\n",
       "  'bangkapos.com',\n",
       "  'bantaeng.rakyat.news',\n",
       "  'batampos.co.id',\n",
       "  'Benny Institute',\n",
       "  'bonepos.com',\n",
       "  'bwi24jam.co.id',\n",
       "  'daulatrakyat.id',\n",
       "  'dekrit.id',\n",
       "  'edukasi.rakyat.news',\n",
       "  'experience.com',\n",
       "  'ganggawa.com',\n",
       "  'goparlement.com',\n",
       "  'harianberkat.com',\n",
       "  'Herald Sulsel',\n",
       "  'indexperience.id',\n",
       "  'infokini.id',\n",
       "  'inilahcelebes.com',\n",
       "  'kabartulungagung.my.id',\n",
       "  'kalimantantoday.com',\n",
       "  'karebanusa.com',\n",
       "  'kediriapik.com',\n",
       "  'lidinews.id',\n",
       "  'linstasnews5terkini.com',\n",
       "  'makassar.rakyat.new',\n",
       "  'makassar.rakyat.news',\n",
       "  'makassarmetro.com',\n",
       "  'makassarpena.com',\n",
       "  'malintangpos.co.id',\n",
       "  'matasulsel.com',\n",
       "  'matatelinga.com',\n",
       "  'mediawarta.com',\n",
       "  'melawinews.com',\n",
       "  'metrokampung.com',\n",
       "  'Musirawas Ekspres',\n",
       "  'narasiberita.com',\n",
       "  'pmpni.com',\n",
       "  'pojok6.id',\n",
       "  'populritas.com',\n",
       "  'portalntb.net',\n",
       "  'pratamamedia.com',\n",
       "  'pristiwa.com',\n",
       "  'radarpekalongan.id',\n",
       "  'radiogamasi.com',\n",
       "  'rotasi.co',\n",
       "  'serayunews.com',\n",
       "  'Sinjai Info',\n",
       "  'sinjai.info',\n",
       "  'starnewsid.com',\n",
       "  'sulsel.herald.id',\n",
       "  'sulselsatu.com',\n",
       "  'tabloidmatahati.com',\n",
       "  'tajukutama.com',\n",
       "  'tangerangonline.id',\n",
       "  'tegasnews.id',\n",
       "  'tigasisi.id',\n",
       "  'topnews1.online',\n",
       "  'tugumalang.id',\n",
       "  'tupanews.info',\n",
       "  'tvmu.tv',\n",
       "  'upeks.co.id',\n",
       "  'Wajah Indonesia',\n",
       "  'wajahindonesia.co.id']}"
      ]
     },
     "execution_count": 40,
     "metadata": {},
     "output_type": "execute_result"
    }
   ],
   "source": [
    "# Combine the tiers into a dictionary\n",
    "tiers = {'Tier 1': tier1, 'Tier 2': tier2, 'Tier 3': tier3, 'Tier 4': tier4}\n",
    "tiers"
   ]
  },
  {
   "cell_type": "code",
   "execution_count": null,
   "metadata": {
    "colab": {
     "base_uri": "https://localhost:8080/"
    },
    "id": "VOmsgrVEQkjE",
    "outputId": "1ecf42cc-b22d-44be-de8e-928a7063ebdb"
   },
   "outputs": [
    {
     "name": "stdout",
     "output_type": "stream",
     "text": [
      "['https://www.detik.com/edu/sekolah/d-6671995/tips-bikin-media-pembelajaran-yang-berdampak-buat-murid-guru-wajib-pahami', 'https://kumparan.com/beritaanaksurabaya/tips-buat-media-pembelajaran-lebih-seru-dari-hobi-murid-20EHXVngE4i', 'https://radarpekalongan.id/media-pembelajaran-yang-menarik/', 'https://tekno.tempo.co/read/1722153/kampus-pemimpin-merdeka-design-thinking-bantu-guru-sesuaikan-kebutuhan-murid', 'https://edukasi.kompas.com/read/2023/04/28/183000271/pengungsi-luar-negeri-di-indonesia-dibekali-pelatihan-menjadi-guru', 'https://kumparan.com/beritaanaksurabaya/21-pengungsi-ikuti-pelatihan-jadi-guru-merdeka-belajar-20Jmd83tsU7', 'https://www.detik.com/edu/edutainment/d-6693985/sejumlah-pengungsi-luar-negeri-dapat-pelatihan-jadi-guru-belajar-apa-saja', 'https://harianhaluan.id/pendidikan/hh-43404/bukik-setiawan-perubahan-pendidikan-berhasil-saat-orangtua-tidak-tanya-lagi-nilai-anak/', 'https://www.detik.com/edu/sekolah/d-6700693/pakar-perubahan-pendidikan-berhasil-saat-ortu-tak-lagi-tanya-nilai-anak', 'https://gaya.tempo.co/read/1714247/ajak-anak-tingkatkan-literasi-dalam-berkarya-bercerita', 'https://tekno.tempo.co/read/1706749/atasi-learning-loss-kemendikbud-rilis-buku-panduan-literasi', 'https://radarpekalongan.id/5-tahapan-design-thinking/', 'https://rotasi.co/merdeka-leader-campus-design-thinking-membantu-guru-memenuhi-kebutuhan-siswa/', 'https://www.kompas.com/edu/read/2023/04/05/144814271/kisah-stepanie-arum-putuskan-pindah-profesi-dari-dokter-jadi-guru?page=all']\n"
     ]
    },
    {
     "data": {
      "text/plain": [
       "14"
      ]
     },
     "execution_count": 41,
     "metadata": {},
     "output_type": "execute_result"
    }
   ],
   "source": [
    "# Get the sheet object based on the URL and sheet name\n",
    "sheet_url = \"...\"\n",
    "sheet_name = \"...\"\n",
    "spreadsheet = client.open_by_url(sheet_url)\n",
    "sheet = spreadsheet.worksheet(sheet_name)\n",
    "\n",
    "# Get the input link from the Google Sheet\n",
    "links = sheet.col_values(7)[1:]  # Exclude the header\n",
    "\n",
    "print(links)\n",
    "len(links)"
   ]
  },
  {
   "cell_type": "code",
   "execution_count": null,
   "metadata": {
    "colab": {
     "background_save": true
    },
    "id": "mkZujPS4VNDQ",
    "outputId": "65545ea5-b7dd-4b29-bf82-3e10b5f0603c"
   },
   "outputs": [
    {
     "name": "stdout",
     "output_type": "stream",
     "text": [
      "['Tips Bikin Media Pembelajaran yang Berdampak buat Murid, Guru Wajib Pahami!', 'Access denied', 'Membuat 5 Media Pembelajaran yang Menarik: Libatkan Murid', 'Kampus Pemimpin Merdeka: Design Thinking Bantu Guru Sesuaikan Kebutuhan Murid', 'Pengungsi Luar Negeri di Indonesia Dibekali Pelatihan Menjadi Guru', 'Access denied', 'Sejumlah Pengungsi Luar Negeri Dapat Pelatihan Jadi Guru, Belajar Apa Saja?', 'Bukik Setiawan: Perubahan Pendidikan Berhasil Saat Orangtua Tidak Tanya Lagi Nilai Anak', 'Pakar: Perubahan Pendidikan Berhasil Saat Ortu Tak Lagi Tanya Nilai Anak', 'Ajak Anak Tingkatkan Literasi Dalam Berkarya Bercerita', 'Atasi Learning Loss, Kemendikbud Rilis Buku Panduan Literasi', '5 Tahapan Design Thinking untuk Membuat Media Pembelajaran Bermakna', '403 Forbidden', 'Kisah Stepanie Arum, Putuskan Pindah Profesi dari Dokter Jadi Guru']\n"
     ]
    },
    {
     "data": {
      "text/plain": [
       "14"
      ]
     },
     "execution_count": 42,
     "metadata": {},
     "output_type": "execute_result"
    }
   ],
   "source": [
    "news_titles = []\n",
    "\n",
    "# Loop through the list of links and extract the news title from each page\n",
    "for link in links:\n",
    "    response = requests.get(link)\n",
    "    html = response.text\n",
    "    soup = BeautifulSoup(html, 'html.parser')\n",
    "\n",
    "    news_title = soup.find('h1')\n",
    "    if news_title:\n",
    "        news_title = news_title.text.strip()\n",
    "    else:\n",
    "        news_title = ''\n",
    "\n",
    "    # Append the news title to the list\n",
    "    news_titles.append(news_title)\n",
    "\n",
    "print(news_titles)\n",
    "len(news_titles)"
   ]
  },
  {
   "cell_type": "code",
   "execution_count": null,
   "metadata": {
    "colab": {
     "background_save": true
    },
    "id": "7JPKC2G1q1xy",
    "outputId": "3d4d5e5a-60aa-4920-b5a0-e2f214bf17e2"
   },
   "outputs": [
    {
     "name": "stdout",
     "output_type": "stream",
     "text": [
      "['Kampus Pemimpin Merdeka, Rizqy Rahmat Hani, Yayasan Guru Belajar', '', 'Kampus Pemimpin Merdeka, Rizqy Rahmat Hani', 'Kampus Pemimpin Merdeka, Rizqy Rahmat Hani, Yayasan Guru Belajar', 'Kampus Guru Cikal, Marsaria Primadonna', '', 'Kampus Guru Cikal, Marsaria Primadonna, Yayasan Guru Belajar', 'Bukik Setiawan, Yayasan Guru Belajar', 'Bukik Setiawan, Yayasan Guru Belajar', 'Yayasan Guru Belajar', 'Bukik Setiawan, Yayasan Guru Belajar', 'Kampus Pemimpin Merdeka, Rizqy Rahmat Hani', '', 'Ayo Jadi Guru, Kampus Guru Cikal, Yayasan Guru Belajar']\n"
     ]
    },
    {
     "data": {
      "text/plain": [
       "14"
      ]
     },
     "execution_count": 43,
     "metadata": {},
     "output_type": "execute_result"
    }
   ],
   "source": [
    "news_keywords = []\n",
    "\n",
    "# Loop through the list of links and find the keywords in the article\n",
    "for link in links:\n",
    "    response = requests.get(link)\n",
    "    html = response.text\n",
    "    soup = BeautifulSoup(html, 'html.parser')\n",
    "\n",
    "    found_keywords = []\n",
    "    for keyword in keywords:\n",
    "      if keyword in html:\n",
    "        found_keywords.append(keyword)\n",
    "    news_keyword = ', '.join(found_keywords)\n",
    "\n",
    "    # Append the news title to the list\n",
    "    news_keywords.append(news_keyword)\n",
    "\n",
    "print(news_keywords)\n",
    "len(news_keywords)"
   ]
  },
  {
   "cell_type": "code",
   "execution_count": null,
   "metadata": {
    "colab": {
     "background_save": true
    },
    "id": "hH1aPCyGQ6qs",
    "outputId": "2e5a17ef-eeb8-4f06-f438-77611e7723bb"
   },
   "outputs": [
    {
     "name": "stdout",
     "output_type": "stream",
     "text": [
      "['detik.com', 'kumparan.com', 'radarpekalongan.id', 'tempo.co', 'kompas.com', 'kumparan.com', 'detik.com', 'harianhaluan.id', 'detik.com', 'tempo.co', 'tempo.co', 'radarpekalongan.id', 'rotasi.co', 'kompas.com']\n"
     ]
    },
    {
     "data": {
      "text/plain": [
       "14"
      ]
     },
     "execution_count": 44,
     "metadata": {},
     "output_type": "execute_result"
    }
   ],
   "source": [
    "news_orgs = []\n",
    "\n",
    "# Get the news website's main link\n",
    "domains = []\n",
    "for url in links:\n",
    "    domain = urlparse(url).netloc\n",
    "    domains.append(domain)\n",
    "\n",
    "news_orgs = []\n",
    "for item in domains:\n",
    "    parts = item.split('.')\n",
    "    if len(parts) > 2:\n",
    "        news_orgs.append(parts[-2] + '.' + parts[-1])\n",
    "    else:\n",
    "        news_orgs.append(item)\n",
    "\n",
    "print(news_orgs)\n",
    "len(news_orgs)"
   ]
  },
  {
   "cell_type": "code",
   "execution_count": null,
   "metadata": {
    "colab": {
     "background_save": true
    },
    "id": "2upcBVtxcc7r",
    "outputId": "39efad8b-d229-4a8a-b28a-822db5bd7b0d"
   },
   "outputs": [
    {
     "name": "stdout",
     "output_type": "stream",
     "text": [
      "['Tier 1', 'Tier 1', 'Tier 4', 'Tier 1', 'Tier 1', 'Tier 1', 'Tier 1', 'Tier 3', 'Tier 1', 'Tier 1', 'Tier 1', 'Tier 4', 'Tier 4', 'Tier 1']\n"
     ]
    },
    {
     "data": {
      "text/plain": [
       "14"
      ]
     },
     "execution_count": 45,
     "metadata": {},
     "output_type": "execute_result"
    }
   ],
   "source": [
    "news_org_tiers = []\n",
    "\n",
    "# Determine the category based on the tiers\n",
    "for news_org in news_orgs:\n",
    "    news_org_tier = None\n",
    "    for tier, websites in tiers.items():\n",
    "        if news_org in websites:\n",
    "            news_org_tier = tier\n",
    "            break\n",
    "    news_org_tiers.append(news_org_tier or '')\n",
    "\n",
    "print(news_org_tiers)\n",
    "len(news_org_tiers)"
   ]
  },
  {
   "cell_type": "code",
   "execution_count": null,
   "metadata": {
    "colab": {
     "background_save": true
    },
    "id": "CcZxVCvXu4nE",
    "outputId": "9acce853-a630-48c3-a143-50545fcaeb78"
   },
   "outputs": [
    {
     "name": "stdout",
     "output_type": "stream",
     "text": [
      "['', '', '18 Apr 2023', '', '', '', '', '', '', '', '', '4 Mei 2023', '', '']\n"
     ]
    },
    {
     "data": {
      "text/plain": [
       "14"
      ]
     },
     "execution_count": 46,
     "metadata": {},
     "output_type": "execute_result"
    }
   ],
   "source": [
    "news_dates = []\n",
    "\n",
    "# Loop through the list of links and extract the news date from each page\n",
    "for link in links:\n",
    "    response = requests.get(link)\n",
    "    html = response.text\n",
    "    soup = BeautifulSoup(html, 'html.parser')\n",
    "\n",
    "    news_date = \"\"\n",
    "    date_tag = soup.find('time')\n",
    "    if date_tag:\n",
    "      news_date = date_tag.text.strip()\n",
    "\n",
    "    # Append the news title to the list\n",
    "    news_dates.append(news_date)\n",
    "\n",
    "print(news_dates)\n",
    "len(news_dates)"
   ]
  },
  {
   "cell_type": "code",
   "execution_count": null,
   "metadata": {
    "colab": {
     "background_save": true
    },
    "id": "4QFjOcBi1anH",
    "outputId": "832d7813-f337-438c-b792-0442629e398a"
   },
   "outputs": [
    {
     "name": "stdout",
     "output_type": "stream",
     "text": [
      "['https://www.detik.com/edu/sekolah/d-6671995/tips-bikin-media-pembelajaran-yang-berdampak-buat-murid-guru-wajib-pahami', 'https://kumparan.com/beritaanaksurabaya/tips-buat-media-pembelajaran-lebih-seru-dari-hobi-murid-20EHXVngE4i', 'https://radarpekalongan.id/media-pembelajaran-yang-menarik/', 'https://tekno.tempo.co/read/1722153/kampus-pemimpin-merdeka-design-thinking-bantu-guru-sesuaikan-kebutuhan-murid', 'https://edukasi.kompas.com/read/2023/04/28/183000271/pengungsi-luar-negeri-di-indonesia-dibekali-pelatihan-menjadi-guru', 'https://kumparan.com/beritaanaksurabaya/21-pengungsi-ikuti-pelatihan-jadi-guru-merdeka-belajar-20Jmd83tsU7', 'https://www.detik.com/edu/edutainment/d-6693985/sejumlah-pengungsi-luar-negeri-dapat-pelatihan-jadi-guru-belajar-apa-saja', 'https://harianhaluan.id/pendidikan/hh-43404/bukik-setiawan-perubahan-pendidikan-berhasil-saat-orangtua-tidak-tanya-lagi-nilai-anak/', 'https://www.detik.com/edu/sekolah/d-6700693/pakar-perubahan-pendidikan-berhasil-saat-ortu-tak-lagi-tanya-nilai-anak', 'https://gaya.tempo.co/read/1714247/ajak-anak-tingkatkan-literasi-dalam-berkarya-bercerita', 'https://tekno.tempo.co/read/1706749/atasi-learning-loss-kemendikbud-rilis-buku-panduan-literasi', 'https://radarpekalongan.id/5-tahapan-design-thinking/', 'https://rotasi.co/merdeka-leader-campus-design-thinking-membantu-guru-memenuhi-kebutuhan-siswa/', 'https://www.kompas.com/edu/read/2023/04/05/144814271/kisah-stepanie-arum-putuskan-pindah-profesi-dari-dokter-jadi-guru?page=all']\n"
     ]
    },
    {
     "data": {
      "text/plain": [
       "14"
      ]
     },
     "execution_count": 47,
     "metadata": {},
     "output_type": "execute_result"
    }
   ],
   "source": [
    "news_links = []\n",
    "news_links = links\n",
    "\n",
    "print(news_links)\n",
    "len(news_links)"
   ]
  },
  {
   "cell_type": "code",
   "execution_count": null,
   "metadata": {
    "colab": {
     "background_save": true
    },
    "id": "UehZLVzM5EMI",
    "outputId": "5454112e-b6c6-4b5d-a8be-dff2d9776a95"
   },
   "outputs": [
    {
     "name": "stdout",
     "output_type": "stream",
     "text": [
      "[1, 1, 0.25, 1, 1, 1, 1, 0.5, 1, 1, 1, 0.25, 0.25, 1]\n"
     ]
    },
    {
     "data": {
      "text/plain": [
       "14"
      ]
     },
     "execution_count": 48,
     "metadata": {},
     "output_type": "execute_result"
    }
   ],
   "source": [
    "score_tiers = []\n",
    "\n",
    "for tier in news_org_tiers:\n",
    "    if tier == \"Tier 1\":\n",
    "        score_tiers.append(1)\n",
    "    elif tier == \"Tier 2\":\n",
    "        score_tiers.append(0.75)\n",
    "    elif tier == \"Tier 3\":\n",
    "        score_tiers.append(0.5)\n",
    "    elif tier == \"Tier 4\":\n",
    "        score_tiers.append(0.25)\n",
    "\n",
    "print(score_tiers)\n",
    "len(score_tiers)"
   ]
  },
  {
   "cell_type": "code",
   "execution_count": null,
   "metadata": {
    "colab": {
     "background_save": true
    },
    "id": "9rCD5SUI8SDm",
    "outputId": "66b182c6-da46-4df4-8f61-09594a55dfb8"
   },
   "outputs": [
    {
     "name": "stdout",
     "output_type": "stream",
     "text": [
      "[1, 0.5, 0.75, 1, 0.75, 0.5, 1, 0.75, 0.75, 0.5, 0.75, 0.75, 0.5, 1]\n"
     ]
    },
    {
     "data": {
      "text/plain": [
       "14"
      ]
     },
     "execution_count": 49,
     "metadata": {},
     "output_type": "execute_result"
    }
   ],
   "source": [
    "score_keywords = []\n",
    "\n",
    "for keywords in news_keywords:\n",
    "    num_keywords = len(keywords.split(', '))\n",
    "    if num_keywords >= 3:\n",
    "        score_keywords.append(1)\n",
    "    elif num_keywords == 2:\n",
    "        score_keywords.append(0.75)\n",
    "    elif num_keywords == 1:\n",
    "        score_keywords.append(0.5)\n",
    "\n",
    "print(score_keywords)\n",
    "len(score_keywords)"
   ]
  },
  {
   "cell_type": "code",
   "execution_count": null,
   "metadata": {
    "colab": {
     "background_save": true
    },
    "id": "mGtQSA4_tWkO",
    "outputId": "a8e9afd9-5a9f-4842-d6e3-42955463955a"
   },
   "outputs": [
    {
     "data": {
      "text/html": [
       "\n",
       "  <div id=\"df-01de99cd-8551-481f-937d-b6927b51dd81\">\n",
       "    <div class=\"colab-df-container\">\n",
       "      <div>\n",
       "<style scoped>\n",
       "    .dataframe tbody tr th:only-of-type {\n",
       "        vertical-align: middle;\n",
       "    }\n",
       "\n",
       "    .dataframe tbody tr th {\n",
       "        vertical-align: top;\n",
       "    }\n",
       "\n",
       "    .dataframe thead th {\n",
       "        text-align: right;\n",
       "    }\n",
       "</style>\n",
       "<table border=\"1\" class=\"dataframe\">\n",
       "  <thead>\n",
       "    <tr style=\"text-align: right;\">\n",
       "      <th></th>\n",
       "      <th>Judul</th>\n",
       "      <th>Keyword</th>\n",
       "      <th>Nama Media</th>\n",
       "      <th>Tier Media</th>\n",
       "      <th>Tanggal</th>\n",
       "      <th>Link</th>\n",
       "      <th>Wartawan</th>\n",
       "      <th>Narasumber 1</th>\n",
       "      <th>Narasumber 2</th>\n",
       "      <th>Sentimen ke YGB/Unit</th>\n",
       "      <th>Skor Tier</th>\n",
       "      <th>Skor Lokasi Brand</th>\n",
       "      <th>Skor Keyword</th>\n",
       "    </tr>\n",
       "  </thead>\n",
       "  <tbody>\n",
       "    <tr>\n",
       "      <th>0</th>\n",
       "      <td>Tips Bikin Media Pembelajaran yang Berdampak b...</td>\n",
       "      <td>Kampus Pemimpin Merdeka, Rizqy Rahmat Hani, Ya...</td>\n",
       "      <td>detik.com</td>\n",
       "      <td>Tier 1</td>\n",
       "      <td></td>\n",
       "      <td>https://www.detik.com/edu/sekolah/d-6671995/ti...</td>\n",
       "      <td></td>\n",
       "      <td></td>\n",
       "      <td></td>\n",
       "      <td></td>\n",
       "      <td>1.00</td>\n",
       "      <td></td>\n",
       "      <td>1.00</td>\n",
       "    </tr>\n",
       "    <tr>\n",
       "      <th>1</th>\n",
       "      <td>Access denied</td>\n",
       "      <td></td>\n",
       "      <td>kumparan.com</td>\n",
       "      <td>Tier 1</td>\n",
       "      <td></td>\n",
       "      <td>https://kumparan.com/beritaanaksurabaya/tips-b...</td>\n",
       "      <td></td>\n",
       "      <td></td>\n",
       "      <td></td>\n",
       "      <td></td>\n",
       "      <td>1.00</td>\n",
       "      <td></td>\n",
       "      <td>0.50</td>\n",
       "    </tr>\n",
       "    <tr>\n",
       "      <th>2</th>\n",
       "      <td>Membuat 5 Media Pembelajaran yang Menarik: Lib...</td>\n",
       "      <td>Kampus Pemimpin Merdeka, Rizqy Rahmat Hani</td>\n",
       "      <td>radarpekalongan.id</td>\n",
       "      <td>Tier 4</td>\n",
       "      <td>18 Apr 2023</td>\n",
       "      <td>https://radarpekalongan.id/media-pembelajaran-...</td>\n",
       "      <td></td>\n",
       "      <td></td>\n",
       "      <td></td>\n",
       "      <td></td>\n",
       "      <td>0.25</td>\n",
       "      <td></td>\n",
       "      <td>0.75</td>\n",
       "    </tr>\n",
       "    <tr>\n",
       "      <th>3</th>\n",
       "      <td>Kampus Pemimpin Merdeka: Design Thinking Bantu...</td>\n",
       "      <td>Kampus Pemimpin Merdeka, Rizqy Rahmat Hani, Ya...</td>\n",
       "      <td>tempo.co</td>\n",
       "      <td>Tier 1</td>\n",
       "      <td></td>\n",
       "      <td>https://tekno.tempo.co/read/1722153/kampus-pem...</td>\n",
       "      <td></td>\n",
       "      <td></td>\n",
       "      <td></td>\n",
       "      <td></td>\n",
       "      <td>1.00</td>\n",
       "      <td></td>\n",
       "      <td>1.00</td>\n",
       "    </tr>\n",
       "    <tr>\n",
       "      <th>4</th>\n",
       "      <td>Pengungsi Luar Negeri di Indonesia Dibekali Pe...</td>\n",
       "      <td>Kampus Guru Cikal, Marsaria Primadonna</td>\n",
       "      <td>kompas.com</td>\n",
       "      <td>Tier 1</td>\n",
       "      <td></td>\n",
       "      <td>https://edukasi.kompas.com/read/2023/04/28/183...</td>\n",
       "      <td></td>\n",
       "      <td></td>\n",
       "      <td></td>\n",
       "      <td></td>\n",
       "      <td>1.00</td>\n",
       "      <td></td>\n",
       "      <td>0.75</td>\n",
       "    </tr>\n",
       "  </tbody>\n",
       "</table>\n",
       "</div>\n",
       "      <button class=\"colab-df-convert\" onclick=\"convertToInteractive('df-01de99cd-8551-481f-937d-b6927b51dd81')\"\n",
       "              title=\"Convert this dataframe to an interactive table.\"\n",
       "              style=\"display:none;\">\n",
       "        \n",
       "  <svg xmlns=\"http://www.w3.org/2000/svg\" height=\"24px\"viewBox=\"0 0 24 24\"\n",
       "       width=\"24px\">\n",
       "    <path d=\"M0 0h24v24H0V0z\" fill=\"none\"/>\n",
       "    <path d=\"M18.56 5.44l.94 2.06.94-2.06 2.06-.94-2.06-.94-.94-2.06-.94 2.06-2.06.94zm-11 1L8.5 8.5l.94-2.06 2.06-.94-2.06-.94L8.5 2.5l-.94 2.06-2.06.94zm10 10l.94 2.06.94-2.06 2.06-.94-2.06-.94-.94-2.06-.94 2.06-2.06.94z\"/><path d=\"M17.41 7.96l-1.37-1.37c-.4-.4-.92-.59-1.43-.59-.52 0-1.04.2-1.43.59L10.3 9.45l-7.72 7.72c-.78.78-.78 2.05 0 2.83L4 21.41c.39.39.9.59 1.41.59.51 0 1.02-.2 1.41-.59l7.78-7.78 2.81-2.81c.8-.78.8-2.07 0-2.86zM5.41 20L4 18.59l7.72-7.72 1.47 1.35L5.41 20z\"/>\n",
       "  </svg>\n",
       "      </button>\n",
       "      \n",
       "  <style>\n",
       "    .colab-df-container {\n",
       "      display:flex;\n",
       "      flex-wrap:wrap;\n",
       "      gap: 12px;\n",
       "    }\n",
       "\n",
       "    .colab-df-convert {\n",
       "      background-color: #E8F0FE;\n",
       "      border: none;\n",
       "      border-radius: 50%;\n",
       "      cursor: pointer;\n",
       "      display: none;\n",
       "      fill: #1967D2;\n",
       "      height: 32px;\n",
       "      padding: 0 0 0 0;\n",
       "      width: 32px;\n",
       "    }\n",
       "\n",
       "    .colab-df-convert:hover {\n",
       "      background-color: #E2EBFA;\n",
       "      box-shadow: 0px 1px 2px rgba(60, 64, 67, 0.3), 0px 1px 3px 1px rgba(60, 64, 67, 0.15);\n",
       "      fill: #174EA6;\n",
       "    }\n",
       "\n",
       "    [theme=dark] .colab-df-convert {\n",
       "      background-color: #3B4455;\n",
       "      fill: #D2E3FC;\n",
       "    }\n",
       "\n",
       "    [theme=dark] .colab-df-convert:hover {\n",
       "      background-color: #434B5C;\n",
       "      box-shadow: 0px 1px 3px 1px rgba(0, 0, 0, 0.15);\n",
       "      filter: drop-shadow(0px 1px 2px rgba(0, 0, 0, 0.3));\n",
       "      fill: #FFFFFF;\n",
       "    }\n",
       "  </style>\n",
       "\n",
       "      <script>\n",
       "        const buttonEl =\n",
       "          document.querySelector('#df-01de99cd-8551-481f-937d-b6927b51dd81 button.colab-df-convert');\n",
       "        buttonEl.style.display =\n",
       "          google.colab.kernel.accessAllowed ? 'block' : 'none';\n",
       "\n",
       "        async function convertToInteractive(key) {\n",
       "          const element = document.querySelector('#df-01de99cd-8551-481f-937d-b6927b51dd81');\n",
       "          const dataTable =\n",
       "            await google.colab.kernel.invokeFunction('convertToInteractive',\n",
       "                                                     [key], {});\n",
       "          if (!dataTable) return;\n",
       "\n",
       "          const docLinkHtml = 'Like what you see? Visit the ' +\n",
       "            '<a target=\"_blank\" href=https://colab.research.google.com/notebooks/data_table.ipynb>data table notebook</a>'\n",
       "            + ' to learn more about interactive tables.';\n",
       "          element.innerHTML = '';\n",
       "          dataTable['output_type'] = 'display_data';\n",
       "          await google.colab.output.renderOutput(dataTable, element);\n",
       "          const docLink = document.createElement('div');\n",
       "          docLink.innerHTML = docLinkHtml;\n",
       "          element.appendChild(docLink);\n",
       "        }\n",
       "      </script>\n",
       "    </div>\n",
       "  </div>\n",
       "  "
      ],
      "text/plain": [
       "                                               Judul  \\\n",
       "0  Tips Bikin Media Pembelajaran yang Berdampak b...   \n",
       "1                                      Access denied   \n",
       "2  Membuat 5 Media Pembelajaran yang Menarik: Lib...   \n",
       "3  Kampus Pemimpin Merdeka: Design Thinking Bantu...   \n",
       "4  Pengungsi Luar Negeri di Indonesia Dibekali Pe...   \n",
       "\n",
       "                                             Keyword          Nama Media  \\\n",
       "0  Kampus Pemimpin Merdeka, Rizqy Rahmat Hani, Ya...           detik.com   \n",
       "1                                                           kumparan.com   \n",
       "2         Kampus Pemimpin Merdeka, Rizqy Rahmat Hani  radarpekalongan.id   \n",
       "3  Kampus Pemimpin Merdeka, Rizqy Rahmat Hani, Ya...            tempo.co   \n",
       "4             Kampus Guru Cikal, Marsaria Primadonna          kompas.com   \n",
       "\n",
       "  Tier Media      Tanggal                                               Link  \\\n",
       "0     Tier 1               https://www.detik.com/edu/sekolah/d-6671995/ti...   \n",
       "1     Tier 1               https://kumparan.com/beritaanaksurabaya/tips-b...   \n",
       "2     Tier 4  18 Apr 2023  https://radarpekalongan.id/media-pembelajaran-...   \n",
       "3     Tier 1               https://tekno.tempo.co/read/1722153/kampus-pem...   \n",
       "4     Tier 1               https://edukasi.kompas.com/read/2023/04/28/183...   \n",
       "\n",
       "  Wartawan Narasumber 1 Narasumber 2 Sentimen ke YGB/Unit  Skor Tier  \\\n",
       "0                                                               1.00   \n",
       "1                                                               1.00   \n",
       "2                                                               0.25   \n",
       "3                                                               1.00   \n",
       "4                                                               1.00   \n",
       "\n",
       "  Skor Lokasi Brand  Skor Keyword  \n",
       "0                            1.00  \n",
       "1                            0.50  \n",
       "2                            0.75  \n",
       "3                            1.00  \n",
       "4                            0.75  "
      ]
     },
     "execution_count": 50,
     "metadata": {},
     "output_type": "execute_result"
    }
   ],
   "source": [
    "# Create a DataFrame with the results\n",
    "results = pd.DataFrame({'Judul': news_titles, 'Keyword': news_keywords, 'Nama Media': news_orgs, 'Tier Media': news_org_tiers, 'Tanggal': news_dates, 'Link': news_links, 'Wartawan': '', 'Narasumber 1': '', 'Narasumber 2': '', 'Sentimen ke YGB/Unit': '', 'Skor Tier': score_tiers, 'Skor Lokasi Brand': '', 'Skor Keyword': score_keywords})\n",
    "\n",
    "# Reorder the columns\n",
    "results = results[['Judul', 'Keyword', 'Nama Media', 'Tier Media', 'Tanggal', 'Link', 'Wartawan', 'Narasumber 1', 'Narasumber 2', 'Sentimen ke YGB/Unit', 'Skor Tier', 'Skor Lokasi Brand', 'Skor Keyword']]\n",
    "\n",
    "results.head()"
   ]
  },
  {
   "cell_type": "code",
   "execution_count": null,
   "metadata": {
    "colab": {
     "background_save": true
    },
    "id": "qO8gmuJx0RbD",
    "outputId": "aee7ba16-6a97-49a7-b45e-a69bed9ecb80"
   },
   "outputs": [
    {
     "data": {
      "text/plain": [
       "{'spreadsheetId': '1kdvXCtxEIyc1MIoWjrX53881PCcJ49UgVWKAPBirbNE',\n",
       " 'updatedRange': \"'Alat Otomasi'!C2:O15\",\n",
       " 'updatedRows': 14,\n",
       " 'updatedColumns': 13,\n",
       " 'updatedCells': 182}"
      ]
     },
     "execution_count": 51,
     "metadata": {},
     "output_type": "execute_result"
    }
   ],
   "source": [
    "results_list = results.values.tolist()\n",
    "\n",
    "# Get the tiers and keywords from the Google Sheet\n",
    "sheet_url = \"https://docs.google.com/spreadsheets/d/1kdvXCtxEIyc1MIoWjrX53881PCcJ49UgVWKAPBirbNE/edit#gid=1018494357\"\n",
    "sheet_name = \"Alat Otomasi\"\n",
    "sheet = client.open_by_url(sheet_url).worksheet(sheet_name)\n",
    "\n",
    "# Clear the contents of cells in the range C2:Z\n",
    "cell_list = sheet.range(\"C2:Z\")\n",
    "for cell in cell_list:\n",
    "    cell.value = \"\"\n",
    "sheet.update_cells(cell_list)\n",
    "\n",
    "sheet.update(\"C2\", results_list)"
   ]
  }
 ],
 "metadata": {
  "colab": {
   "provenance": [],
   "toc_visible": true
  },
  "kernelspec": {
   "display_name": "Python 3 (ipykernel)",
   "language": "python",
   "name": "python3"
  },
  "language_info": {
   "codemirror_mode": {
    "name": "ipython",
    "version": 3
   },
   "file_extension": ".py",
   "mimetype": "text/x-python",
   "name": "python",
   "nbconvert_exporter": "python",
   "pygments_lexer": "ipython3",
   "version": "3.9.13"
  }
 },
 "nbformat": 4,
 "nbformat_minor": 1
}
