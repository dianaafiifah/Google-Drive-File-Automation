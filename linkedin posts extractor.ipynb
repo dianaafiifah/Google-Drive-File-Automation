{
 "cells": [
  {
   "cell_type": "code",
   "execution_count": null,
   "metadata": {
    "id": "iGwxknZHLkFc"
   },
   "outputs": [],
   "source": [
    "# install the necessary libraries\n",
    "!pip install beautifulsoup4 requests lxml pandas\n",
    "\n",
    "# import the necessary libraries\n",
    "from bs4 import BeautifulSoup\n",
    "import requests\n",
    "import pandas as pd\n",
    "import re"
   ]
  },
  {
   "cell_type": "code",
   "execution_count": null,
   "metadata": {
    "id": "CS-aGu2Qlg1X"
   },
   "outputs": [],
   "source": [
    "# specify the URL of the website you want to scrape\n",
    "url = \"...\"\n",
    "\n",
    "# make a request to the website\n",
    "response = requests.get(url)\n",
    "print(response)\n",
    "\n",
    "#since it seemingly requires selenium, save the page instead"
   ]
  },
  {
   "cell_type": "code",
   "execution_count": null,
   "metadata": {
    "id": "Iomx9E0rmzCY"
   },
   "outputs": [],
   "source": [
    "#read the file and parse the HTML content\n",
    "with open(\"Post _ LinkedIn.html\", \"r\") as file:\n",
    "    contents = file.read()\n",
    "    soup = BeautifulSoup(contents, 'html.parser') # you can use 'lxml' or 'html.parser'\n",
    "    print(soup)"
   ]
  },
  {
   "cell_type": "code",
   "execution_count": null,
   "metadata": {
    "id": "xM63HEB50MRd"
   },
   "outputs": [],
   "source": [
    "# extract the data\n",
    "data = []\n",
    "items = soup.find_all('div', class_='comments-post-meta__profile-info-wrapper display-flex')\n",
    "for item in items:\n",
    "  name = item.find('span', class_='comments-post-meta__name text-body-small-open t-black').text.strip()\n",
    "  name = name.replace(\"out of network\", \"\").strip()\n",
    "  name = name.replace(\"3rd+\", \"\").strip()\n",
    "  name = name.split(\"View\")[0].strip()\n",
    "\n",
    "  title = item.find('span', class_='comments-post-meta__headline t-12 t-normal t-black--light').text.strip()\n",
    "\n",
    "  link = item.find('a')['href']\n",
    "\n",
    "  data.append({'name': name, 'title': title, 'link': link})\n",
    "  print(data)"
   ]
  },
  {
   "cell_type": "code",
   "execution_count": null,
   "metadata": {
    "id": "RtQbJubWVXNT"
   },
   "outputs": [],
   "source": [
    "# convert the data into a dataframe\n",
    "df = pd.DataFrame(data)\n",
    "df = df.drop_duplicates()\n",
    "df = df.sort_values(by='name')\n",
    "df"
   ]
  },
  {
   "cell_type": "code",
   "execution_count": null,
   "metadata": {
    "id": "duf1Rmn0bCMQ"
   },
   "outputs": [],
   "source": [
    "# save the DataFrame as a CSV file\n",
    "df.to_csv('data.csv', index=False)"
   ]
  }
 ],
 "metadata": {
  "colab": {
   "provenance": []
  },
  "kernelspec": {
   "display_name": "Python 3 (ipykernel)",
   "language": "python",
   "name": "python3"
  },
  "language_info": {
   "codemirror_mode": {
    "name": "ipython",
    "version": 3
   },
   "file_extension": ".py",
   "mimetype": "text/x-python",
   "name": "python",
   "nbconvert_exporter": "python",
   "pygments_lexer": "ipython3",
   "version": "3.9.13"
  }
 },
 "nbformat": 4,
 "nbformat_minor": 1
}
