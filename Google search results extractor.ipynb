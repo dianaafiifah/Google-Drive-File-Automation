{
 "cells": [
  {
   "cell_type": "code",
   "execution_count": null,
   "metadata": {
    "id": "iGwxknZHLkFc"
   },
   "outputs": [],
   "source": [
    "# install the necessary libraries\n",
    "!pip install beautifulsoup4 requests lxml pandas\n",
    "\n",
    "# import the necessary libraries\n",
    "from bs4 import BeautifulSoup\n",
    "import requests\n",
    "import pandas as pd\n",
    "import re\n",
    "\n",
    "# specify the URL of the website you want to scrape\n",
    "url = \"...\""
   ]
  },
  {
   "cell_type": "code",
   "execution_count": null,
   "metadata": {
    "id": "vPbyQzd9gS8V"
   },
   "outputs": [],
   "source": [
    "# make a request to the website\n",
    "response = requests.get(url)\n",
    "print(response)"
   ]
  },
  {
   "cell_type": "code",
   "execution_count": null,
   "metadata": {
    "colab": {
     "base_uri": "https://localhost:8080/"
    },
    "id": "YMsoVkeog1oX",
    "outputId": "35580bad-3501-49ce-e25a-eea0c75072c2"
   },
   "outputs": [],
   "source": [
    "# parse the HTML content\n",
    "soup = BeautifulSoup(response.content, 'lxml') # you can use 'lxml' or 'html.parser'\n",
    "print(soup)"
   ]
  },
  {
   "cell_type": "code",
   "execution_count": null,
   "metadata": {
    "id": "xM63HEB50MRd"
   },
   "outputs": [],
   "source": [
    "# extract the data\n",
    "data = []\n",
    "items = soup.find_all('div', class_='Gx5Zad fP1Qef xpd EtOod pkphOe')\n",
    "for item in items:\n",
    "  name_title_org = item.find('div', class_='BNeawe vvjwJb AP7Wnd').text\n",
    "\n",
    "  name = re.split(r\"[-–]\", name_title_org)[0]\n",
    "\n",
    "  without_name = name_title_org.replace(name, \"\").strip()\n",
    "  title = re.split(r\"[-–/]\", without_name)[1].strip()\n",
    "\n",
    "  without_name_title = without_name.replace(title, \"\").strip()\n",
    "  org = re.sub(r\"[-–/|]|LinkedIn|Linkedin\", \"\", without_name_title)\n",
    "\n",
    "  link = item.find('a')['href'].split('/url?q=')[1]\n",
    "  link = link.split('&')[0]\n",
    "\n",
    "  data.append({'name': name, 'title': title, 'org': org, 'link': link})\n",
    "  print(data)"
   ]
  },
  {
   "cell_type": "code",
   "execution_count": null,
   "metadata": {
    "colab": {
     "base_uri": "https://localhost:8080/",
     "height": 902
    },
    "id": "RtQbJubWVXNT",
    "outputId": "90e5a10d-83c7-45d3-e425-ab88904e91cb"
   },
   "outputs": [],
   "source": [
    "# convert the data into a dataframe\n",
    "df = pd.DataFrame(data)\n",
    "df = df.sort_values(by='name')\n",
    "df"
   ]
  },
  {
   "cell_type": "code",
   "execution_count": null,
   "metadata": {
    "id": "duf1Rmn0bCMQ"
   },
   "outputs": [],
   "source": [
    "# save the DataFrame as a CSV file\n",
    "df.to_csv('data.csv', index=False)"
   ]
  }
 ],
 "metadata": {
  "colab": {
   "provenance": []
  },
  "kernelspec": {
   "display_name": "Python 3 (ipykernel)",
   "language": "python",
   "name": "python3"
  },
  "language_info": {
   "codemirror_mode": {
    "name": "ipython",
    "version": 3
   },
   "file_extension": ".py",
   "mimetype": "text/x-python",
   "name": "python",
   "nbconvert_exporter": "python",
   "pygments_lexer": "ipython3",
   "version": "3.9.13"
  }
 },
 "nbformat": 4,
 "nbformat_minor": 1
}
