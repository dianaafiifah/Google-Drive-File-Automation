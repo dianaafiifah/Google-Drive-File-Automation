{
 "cells": [
  {
   "cell_type": "markdown",
   "metadata": {
    "id": "6CmSJxUM8rU5"
   },
   "source": [
    "# Scrape News Website"
   ]
  },
  {
   "cell_type": "code",
   "execution_count": null,
   "metadata": {
    "colab": {
     "base_uri": "https://localhost:8080/"
    },
    "id": "r4LuBl58NGLv",
    "outputId": "932fcc5e-e8b5-471e-c5d6-0d03da2fd115"
   },
   "outputs": [],
   "source": [
    "!pip install --upgrade gspread\n",
    "!pip install tldextract"
   ]
  },
  {
   "cell_type": "code",
   "execution_count": null,
   "metadata": {
    "id": "DXDP88rhRr_q"
   },
   "outputs": [],
   "source": [
    "from bs4 import BeautifulSoup\n",
    "import requests\n",
    "\n",
    "import pandas as pd\n",
    "\n",
    "from google.colab import auth\n",
    "auth.authenticate_user()\n",
    "\n",
    "from google.auth import default\n",
    "from oauth2client.service_account import ServiceAccountCredentials\n",
    "import gspread\n",
    "\n",
    "from urllib.parse import urlparse"
   ]
  },
  {
   "cell_type": "code",
   "execution_count": null,
   "metadata": {
    "id": "PlU9XVyKsAC9"
   },
   "outputs": [],
   "source": [
    "# Set up the Google Sheets API credentials\n",
    "creds, _ = default()\n",
    "client = gspread.authorize(creds)"
   ]
  },
  {
   "cell_type": "code",
   "execution_count": null,
   "metadata": {
    "id": "xF1SZuznr6p4"
   },
   "outputs": [],
   "source": [
    "# Get the tiers and keywords from the Google Sheet\n",
    "sheet_url = \"...\"\n",
    "sheet_name = \"...\"\n",
    "sheet = client.open_by_url(sheet_url).worksheet(sheet_name)\n",
    "\n",
    "keywords = sheet.col_values(1)[1:]  # Exclude the header\n",
    "tier1 = sheet.col_values(2)[1:]\n",
    "tier2 = sheet.col_values(3)[1:]\n",
    "tier3 = sheet.col_values(4)[1:]\n",
    "tier4 = sheet.col_values(5)[1:]"
   ]
  },
  {
   "cell_type": "code",
   "execution_count": null,
   "metadata": {
    "colab": {
     "base_uri": "https://localhost:8080/"
    },
    "id": "jRXDg66BsW5m",
    "outputId": "b24ba2ce-5ce2-4d1f-873c-a407d270adcb"
   },
   "outputs": [],
   "source": [
    "# Combine the keywords into a dictionary\n",
    "keywords"
   ]
  },
  {
   "cell_type": "code",
   "execution_count": null,
   "metadata": {
    "colab": {
     "base_uri": "https://localhost:8080/"
    },
    "id": "S3GQubHDsZWq",
    "outputId": "e312ac5c-629d-4a79-ecac-1ae8b53d533b"
   },
   "outputs": [],
   "source": [
    "# Combine the tiers into a dictionary\n",
    "tiers = {'Tier 1': tier1, 'Tier 2': tier2, 'Tier 3': tier3, 'Tier 4': tier4}\n",
    "tiers"
   ]
  },
  {
   "cell_type": "code",
   "execution_count": null,
   "metadata": {
    "colab": {
     "base_uri": "https://localhost:8080/"
    },
    "id": "VOmsgrVEQkjE",
    "outputId": "1ecf42cc-b22d-44be-de8e-928a7063ebdb"
   },
   "outputs": [],
   "source": [
    "# Get the sheet object based on the URL and sheet name\n",
    "sheet_url = \"...\"\n",
    "sheet_name = \"...\"\n",
    "spreadsheet = client.open_by_url(sheet_url)\n",
    "sheet = spreadsheet.worksheet(sheet_name)\n",
    "\n",
    "# Get the input link from the Google Sheet\n",
    "links = sheet.col_values(7)[1:]  # Exclude the header\n",
    "\n",
    "print(links)\n",
    "len(links)"
   ]
  },
  {
   "cell_type": "code",
   "execution_count": null,
   "metadata": {
    "colab": {
     "background_save": true
    },
    "id": "mkZujPS4VNDQ",
    "outputId": "65545ea5-b7dd-4b29-bf82-3e10b5f0603c"
   },
   "outputs": [],
   "source": [
    "news_titles = []\n",
    "\n",
    "# Loop through the list of links and extract the news title from each page\n",
    "for link in links:\n",
    "    response = requests.get(link)\n",
    "    html = response.text\n",
    "    soup = BeautifulSoup(html, 'html.parser')\n",
    "\n",
    "    news_title = soup.find('h1')\n",
    "    if news_title:\n",
    "        news_title = news_title.text.strip()\n",
    "    else:\n",
    "        news_title = ''\n",
    "\n",
    "    # Append the news title to the list\n",
    "    news_titles.append(news_title)\n",
    "\n",
    "print(news_titles)\n",
    "len(news_titles)"
   ]
  },
  {
   "cell_type": "code",
   "execution_count": null,
   "metadata": {
    "colab": {
     "background_save": true
    },
    "id": "7JPKC2G1q1xy",
    "outputId": "3d4d5e5a-60aa-4920-b5a0-e2f214bf17e2"
   },
   "outputs": [],
   "source": [
    "news_keywords = []\n",
    "\n",
    "# Loop through the list of links and find the keywords in the article\n",
    "for link in links:\n",
    "    response = requests.get(link)\n",
    "    html = response.text\n",
    "    soup = BeautifulSoup(html, 'html.parser')\n",
    "\n",
    "    found_keywords = []\n",
    "    for keyword in keywords:\n",
    "      if keyword in html:\n",
    "        found_keywords.append(keyword)\n",
    "    news_keyword = ', '.join(found_keywords)\n",
    "\n",
    "    # Append the news title to the list\n",
    "    news_keywords.append(news_keyword)\n",
    "\n",
    "print(news_keywords)\n",
    "len(news_keywords)"
   ]
  },
  {
   "cell_type": "code",
   "execution_count": null,
   "metadata": {
    "colab": {
     "background_save": true
    },
    "id": "hH1aPCyGQ6qs",
    "outputId": "2e5a17ef-eeb8-4f06-f438-77611e7723bb"
   },
   "outputs": [],
   "source": [
    "news_orgs = []\n",
    "\n",
    "# Get the news website's main link\n",
    "domains = []\n",
    "for url in links:\n",
    "    domain = urlparse(url).netloc\n",
    "    domains.append(domain)\n",
    "\n",
    "news_orgs = []\n",
    "for item in domains:\n",
    "    parts = item.split('.')\n",
    "    if len(parts) > 2:\n",
    "        news_orgs.append(parts[-2] + '.' + parts[-1])\n",
    "    else:\n",
    "        news_orgs.append(item)\n",
    "\n",
    "print(news_orgs)\n",
    "len(news_orgs)"
   ]
  },
  {
   "cell_type": "code",
   "execution_count": null,
   "metadata": {
    "colab": {
     "background_save": true
    },
    "id": "2upcBVtxcc7r",
    "outputId": "39efad8b-d229-4a8a-b28a-822db5bd7b0d"
   },
   "outputs": [],
   "source": [
    "news_org_tiers = []\n",
    "\n",
    "# Determine the category based on the tiers\n",
    "for news_org in news_orgs:\n",
    "    news_org_tier = None\n",
    "    for tier, websites in tiers.items():\n",
    "        if news_org in websites:\n",
    "            news_org_tier = tier\n",
    "            break\n",
    "    news_org_tiers.append(news_org_tier or '')\n",
    "\n",
    "print(news_org_tiers)\n",
    "len(news_org_tiers)"
   ]
  },
  {
   "cell_type": "code",
   "execution_count": null,
   "metadata": {
    "colab": {
     "background_save": true
    },
    "id": "CcZxVCvXu4nE",
    "outputId": "9acce853-a630-48c3-a143-50545fcaeb78"
   },
   "outputs": [],
   "source": [
    "news_dates = []\n",
    "\n",
    "# Loop through the list of links and extract the news date from each page\n",
    "for link in links:\n",
    "    response = requests.get(link)\n",
    "    html = response.text\n",
    "    soup = BeautifulSoup(html, 'html.parser')\n",
    "\n",
    "    news_date = \"\"\n",
    "    date_tag = soup.find('time')\n",
    "    if date_tag:\n",
    "      news_date = date_tag.text.strip()\n",
    "\n",
    "    # Append the news title to the list\n",
    "    news_dates.append(news_date)\n",
    "\n",
    "print(news_dates)\n",
    "len(news_dates)"
   ]
  },
  {
   "cell_type": "code",
   "execution_count": null,
   "metadata": {
    "colab": {
     "background_save": true
    },
    "id": "4QFjOcBi1anH",
    "outputId": "832d7813-f337-438c-b792-0442629e398a"
   },
   "outputs": [],
   "source": [
    "news_links = []\n",
    "news_links = links\n",
    "\n",
    "print(news_links)\n",
    "len(news_links)"
   ]
  },
  {
   "cell_type": "code",
   "execution_count": null,
   "metadata": {
    "colab": {
     "background_save": true
    },
    "id": "UehZLVzM5EMI",
    "outputId": "5454112e-b6c6-4b5d-a8be-dff2d9776a95"
   },
   "outputs": [],
   "source": [
    "score_tiers = []\n",
    "\n",
    "for tier in news_org_tiers:\n",
    "    if tier == \"Tier 1\":\n",
    "        score_tiers.append(1)\n",
    "    elif tier == \"Tier 2\":\n",
    "        score_tiers.append(0.75)\n",
    "    elif tier == \"Tier 3\":\n",
    "        score_tiers.append(0.5)\n",
    "    elif tier == \"Tier 4\":\n",
    "        score_tiers.append(0.25)\n",
    "\n",
    "print(score_tiers)\n",
    "len(score_tiers)"
   ]
  },
  {
   "cell_type": "code",
   "execution_count": null,
   "metadata": {
    "colab": {
     "background_save": true
    },
    "id": "9rCD5SUI8SDm",
    "outputId": "66b182c6-da46-4df4-8f61-09594a55dfb8"
   },
   "outputs": [],
   "source": [
    "score_keywords = []\n",
    "\n",
    "for keywords in news_keywords:\n",
    "    num_keywords = len(keywords.split(', '))\n",
    "    if num_keywords >= 3:\n",
    "        score_keywords.append(1)\n",
    "    elif num_keywords == 2:\n",
    "        score_keywords.append(0.75)\n",
    "    elif num_keywords == 1:\n",
    "        score_keywords.append(0.5)\n",
    "\n",
    "print(score_keywords)\n",
    "len(score_keywords)"
   ]
  },
  {
   "cell_type": "code",
   "execution_count": null,
   "metadata": {
    "colab": {
     "background_save": true
    },
    "id": "mGtQSA4_tWkO",
    "outputId": "a8e9afd9-5a9f-4842-d6e3-42955463955a"
   },
   "outputs": [],
   "source": [
    "# Create a DataFrame with the results\n",
    "results = pd.DataFrame({'Judul': news_titles, 'Keyword': news_keywords, 'Nama Media': news_orgs, 'Tier Media': news_org_tiers, 'Tanggal': news_dates, 'Link': news_links, 'Wartawan': '', 'Narasumber 1': '', 'Narasumber 2': '', 'Sentimen': '', 'Skor Tier': score_tiers, 'Skor Lokasi Brand': '', 'Skor Keyword': score_keywords})\n",
    "\n",
    "# Reorder the columns\n",
    "results = results[['Judul', 'Keyword', 'Nama Media', 'Tier Media', 'Tanggal', 'Link', 'Wartawan', 'Narasumber 1', 'Narasumber 2', 'Sentimen', 'Skor Tier', 'Skor Lokasi Brand', 'Skor Keyword']]\n",
    "\n",
    "results.head()"
   ]
  },
  {
   "cell_type": "code",
   "execution_count": null,
   "metadata": {
    "colab": {
     "background_save": true
    },
    "id": "qO8gmuJx0RbD",
    "outputId": "aee7ba16-6a97-49a7-b45e-a69bed9ecb80"
   },
   "outputs": [],
   "source": [
    "results_list = results.values.tolist()\n",
    "\n",
    "# Get the tiers and keywords from the Google Sheet\n",
    "sheet_url = \"...\"\n",
    "sheet_name = \"...\"\n",
    "sheet = client.open_by_url(sheet_url).worksheet(sheet_name)\n",
    "\n",
    "# Clear the contents of cells in the range C2:Z\n",
    "cell_list = sheet.range(\"C2:Z\")\n",
    "for cell in cell_list:\n",
    "    cell.value = \"\"\n",
    "sheet.update_cells(cell_list)\n",
    "\n",
    "sheet.update(\"C2\", results_list)"
   ]
  }
 ],
 "metadata": {
  "colab": {
   "provenance": [],
   "toc_visible": true
  },
  "kernelspec": {
   "display_name": "Python 3 (ipykernel)",
   "language": "python",
   "name": "python3"
  },
  "language_info": {
   "codemirror_mode": {
    "name": "ipython",
    "version": 3
   },
   "file_extension": ".py",
   "mimetype": "text/x-python",
   "name": "python",
   "nbconvert_exporter": "python",
   "pygments_lexer": "ipython3",
   "version": "3.9.13"
  }
 },
 "nbformat": 4,
 "nbformat_minor": 1
}
